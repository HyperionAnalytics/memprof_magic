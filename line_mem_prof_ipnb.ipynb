{
 "metadata": {
  "name": "",
  "signature": "sha256:e9b40d31ab000c54cf5ebeae196d68c52729554676a32578794971c3c1c7d9f6"
 },
 "nbformat": 3,
 "nbformat_minor": 0,
 "worksheets": [
  {
   "cells": [
    {
     "cell_type": "code",
     "collapsed": false,
     "input": [
      "import numpy as np"
     ],
     "language": "python",
     "metadata": {},
     "outputs": [],
     "prompt_number": 1
    },
    {
     "cell_type": "code",
     "collapsed": false,
     "input": [
      "def euclidean_vectorized(a):\n",
      "    \"\"\" Calculate vectorized Euclidean distance.\"\"\"\n",
      "    r = a.shape[0]\n",
      "    aa = np.sum(a*a, axis=1)\n",
      "    dm = (aa[:, np.newaxis] + aa) - 2*np.dot(a, a.T)\n",
      "    idx = np.rot90(np.tril(np.ones((r, r), dtype='bool'), -1), 2)\n",
      "    euclideanDistance = np.sqrt(np.abs(dm[idx]))\n",
      "    return euclideanDistance"
     ],
     "language": "python",
     "metadata": {},
     "outputs": [],
     "prompt_number": 2
    },
    {
     "cell_type": "code",
     "collapsed": false,
     "input": [
      "m1 = np.random.rand(5000, 1000)"
     ],
     "language": "python",
     "metadata": {},
     "outputs": [],
     "prompt_number": 3
    },
    {
     "cell_type": "code",
     "collapsed": false,
     "input": [
      "%load_ext memprof"
     ],
     "language": "python",
     "metadata": {},
     "outputs": [],
     "prompt_number": 4
    },
    {
     "cell_type": "code",
     "collapsed": false,
     "input": [
      "%memprof -f 'euclidean_vectorized(m1)' -p 2"
     ],
     "language": "python",
     "metadata": {},
     "outputs": [
      {
       "output_type": "stream",
       "stream": "stdout",
       "text": [
        "Line #    Mem usage    Increment   Line Contents\n",
        "================================================\n",
        "     1    77.64 MiB     0.00 MiB   def euclidean_vectorized(a):\n",
        "     2                                 \"\"\" Calculate vectorized Euclidean distance.\"\"\"\n",
        "     3    77.64 MiB     0.00 MiB       r = a.shape[0]\n",
        "     4    77.78 MiB     0.14 MiB       aa = np.sum(a*a, axis=1)\n",
        "     5   291.46 MiB   213.68 MiB       dm = (aa[:, np.newaxis] + aa) - 2*np.dot(a, a.T)\n",
        "     6   315.22 MiB    23.76 MiB       idx = np.rot90(np.tril(np.ones((r, r), dtype='bool'), -1), 2)\n",
        "     7   410.59 MiB    95.37 MiB       euclideanDistance = np.sqrt(np.abs(dm[idx]))\n",
        "     8   410.59 MiB     0.00 MiB       return euclideanDistance\n",
        "\n",
        "\n"
       ]
      }
     ],
     "prompt_number": 5
    },
    {
     "cell_type": "code",
     "collapsed": false,
     "input": [
      "%load_ext watermark"
     ],
     "language": "python",
     "metadata": {},
     "outputs": [],
     "prompt_number": 6
    },
    {
     "cell_type": "code",
     "collapsed": false,
     "input": [
      "%watermark -a \"Milos Miljkovic\" -d -v -m"
     ],
     "language": "python",
     "metadata": {},
     "outputs": [
      {
       "output_type": "stream",
       "stream": "stdout",
       "text": [
        "Milos Miljkovic 22/07/2014 \n",
        "\n",
        "CPython 3.4.1\n",
        "IPython 2.1.0\n",
        "\n",
        "compiler   : GCC 4.1.2 20080704 (Red Hat 4.1.2-54)\n",
        "system     : Debian GNU/Linux 7.6 (wheezy)\n",
        "release    : 3.2.0-4-amd64\n",
        "machine    : x86_64\n",
        "processor  : Intel(R) Core(TM) i7-2600K CPU @ 3.40GHz\n",
        "CPU cores  : 8\n",
        "interpreter: 64bit\n"
       ]
      }
     ],
     "prompt_number": 7
    }
   ],
   "metadata": {}
  }
 ]
}